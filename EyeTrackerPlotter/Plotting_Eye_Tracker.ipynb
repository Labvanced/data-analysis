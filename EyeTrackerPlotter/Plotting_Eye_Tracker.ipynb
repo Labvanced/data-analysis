{
 "cells": [
  {
   "cell_type": "code",
   "execution_count": null,
   "metadata": {},
   "outputs": [],
   "source": [
    "import pandas as pd"
   ]
  },
  {
   "cell_type": "code",
   "execution_count": null,
   "metadata": {},
   "outputs": [],
   "source": [
    "# Load the data and encode the utf16\n",
    "# data = pd.read_csv('data.csv',sep='\\t',encoding='utf16')\n",
    "data = pd.read_csv('data2.csv')"
   ]
  },
  {
   "cell_type": "code",
   "execution_count": null,
   "metadata": {},
   "outputs": [],
   "source": [
    "# Prepare data\n",
    "# data = pd.concat([data, data['values'].str.split(',', expand=True)], axis=1)\n",
    "# data = data.drop('values', axis=1)\n",
    "\n",
    "## G and H represent the columns with corr\n",
    "data = data.rename(columns={\"variable_name\":\"variable\",'G':\"x\", 'H': \"y\"})"
   ]
  },
  {
   "cell_type": "code",
   "execution_count": null,
   "metadata": {},
   "outputs": [],
   "source": [
    "#Show first 5 rows\n",
    "data.head()"
   ]
  },
  {
   "cell_type": "markdown",
   "metadata": {},
   "source": [
    "### Specyfic setup, depens of the different variables or data types etc."
   ]
  },
  {
   "cell_type": "code",
   "execution_count": null,
   "metadata": {},
   "outputs": [],
   "source": [
    "\n",
    "# output = {}\n",
    "# current_answer = None\n",
    "# for _,row in data.iterrows():\n",
    "#     if 'answer' in row['variable']:\n",
    "#         current_answer = row['H']\n",
    "#     else:\n",
    "#         output.setdefault('y',[]).append(row['H'])\n",
    "#         output.setdefault('x',[]).append(row['G'])\n",
    "#         output.setdefault('answer',[]).append(current_answer)\n",
    "# data = pd.DataFrame.from_dict(output)\n",
    "# data = data.dropna(how='all')\n",
    "\n",
    "# # decimals = pd.Series([0,1], index=['x','y'])\n",
    "# # data = data.round(decimals)\n",
    "# # data = data.x.astype(float);\n",
    "\n",
    "# # data = data.to_csv(\"ConvertedX_Y.csv\")\n",
    "# data.x = data.x.str.extract('(\\d+)', expand=False)\n",
    "# data.y = data.y.str.extract('(\\d+)', expand=False)\n",
    "# data.x\n",
    "# data.head()\n",
    "# # data.x.astype(int);\n",
    "# # data.y.astype(int);\n",
    "# data = data.astype(float)\n",
    "\n",
    "\n",
    "# data.head(1000)\n",
    "        "
   ]
  },
  {
   "cell_type": "markdown",
   "metadata": {},
   "source": [
    "### Plotting Scatters and Heatmaps"
   ]
  },
  {
   "cell_type": "code",
   "execution_count": null,
   "metadata": {},
   "outputs": [],
   "source": [
    "## Plotting plane scatter\n",
    "import matplotlib.pyplot as plt\n",
    "import pandas as pd\n",
    "\n",
    "plt.style.use('seaborn')\n",
    "x_corr = data['x']\n",
    "y_corr = data['y']\n",
    "# answer = data['answer']\n",
    "\n",
    "plt.scatter(x_corr, y_corr, cmap='summer', edgecolor='red', linewidth=1, alpha=0.75)\n",
    "\n",
    "cbar = plt.colorbar()\n",
    "cbar.set_label('X coordinates bar')\n",
    "\n",
    "plt.gca().invert_yaxis()\n",
    "plt.title('Eye Tracker corrdianates')\n",
    "plt.xlabel('X corrinates')\n",
    "plt.ylabel('Y corridnates')\n",
    "\n",
    "plt.tight_layout()"
   ]
  },
  {
   "cell_type": "code",
   "execution_count": null,
   "metadata": {},
   "outputs": [],
   "source": [
    "# Plotting on the scatter with picture on the back ground.\n",
    "im = plt.imread('car.jpg')\n",
    "\n",
    "x_corr = data['x']\n",
    "y_corr = data['y']\n",
    "\n",
    "plt.scatter(x_corr, y_corr, cmap='summer', edgecolor='red', linewidth=1, alpha=0.75)\n",
    "# plt.hist2d(x,y, bins=[np.arange(0,800,5),np.arange(0,450,5)])\n",
    "\n",
    "# cbar = plt.colorbar()\n",
    "# cbar.set_label('X coordinates bar')\n",
    "# plt.gca().invert_xaxis()\n",
    "# plt.gca().invert_yaxis()\n",
    "\n",
    "plt.title('Eye Tracker corrdianates')\n",
    "plt.xlabel('X corrinates')\n",
    "plt.ylabel('Y corridnates')\n",
    "plt.imshow(im)\n",
    "plt.style.use('seaborn')\n",
    "\n",
    "plt.xlim(0,800)\n",
    "plt.ylim(450,0)\n",
    "plt.tight_layout()"
   ]
  },
  {
   "cell_type": "code",
   "execution_count": null,
   "metadata": {},
   "outputs": [],
   "source": [
    "# Plot different graphs\n",
    "# libraries\n",
    "import seaborn as sns\n",
    "from scipy.stats import kde\n",
    "data = data.fillna(0)\n",
    "plt.style.use('seaborn')\n",
    "x_corr = data['x']\n",
    "y_corr = data['y']\n",
    "# answer = data['answer']\n",
    "\n",
    "# create data\n",
    "x = x_corr\n",
    "y = y_corr\n",
    "\n",
    "plt.gca().invert_yaxis()\n",
    "# Evaluate a gaussian kde on a regular grid of nbins x nbins over data extents\n",
    "nbins=100\n",
    "k = kde.gaussian_kde([x,y])\n",
    "xi, yi = np.mgrid[x.min():x.max():nbins*1j, y.min():y.max():nbins*1j]\n",
    "zi = k(np.vstack([xi.flatten(), yi.flatten()]))\n",
    " \n",
    "# Make the plot\n",
    "plt.style.use('seaborn')\n",
    "plt.pcolormesh(xi, yi, zi.reshape(xi.shape))\n",
    "plt.show()\n",
    " \n",
    "# Change color palette\n",
    "plt.pcolormesh(xi, yi, zi.reshape(xi.shape), cmap=plt.cm.jet)\n",
    "\n",
    "# plt.xlim(0,800)\n",
    "# plt.ylim(450,0)\n",
    "\n",
    "plt.show()\n",
    "\n",
    "# Add color bar\n",
    "plt.pcolormesh(xi, yi, zi.reshape(xi.shape), cmap=plt.cm.Greens_r)\n",
    "plt.gca().invert_yaxis()\n",
    "# plt.xlim(0,800)\n",
    "# plt.ylim(450,0)\n",
    "plt.colorbar()\n",
    "\n",
    "plt.show()\n",
    "\n"
   ]
  },
  {
   "cell_type": "code",
   "execution_count": null,
   "metadata": {},
   "outputs": [],
   "source": [
    "import numpy as np\n",
    "import matplotlib.pyplot as plt\n",
    "import matplotlib.cm as cm\n",
    "from scipy.ndimage.filters import gaussian_filter\n",
    "\n",
    "\n",
    "def myplot(x, y, s, bins=1000):\n",
    "    heatmap, xedges, yedges = np.histogram2d(x, y, bins=bins)\n",
    "    heatmap = gaussian_filter(heatmap, sigma=s)\n",
    "\n",
    "    extent = [xedges[0], xedges[-1], yedges[0], yedges[-1]]\n",
    "    return heatmap.T, extent\n",
    "fig, axs = plt.subplots(2, 2)\n",
    "\n",
    "sigmas = [0, 16, 32, 64]\n",
    "\n",
    "for ax, s in zip(axs.flatten(), sigmas):\n",
    "    \n",
    "    if s == 0:\n",
    "        ax.plot(x, y, 'k.', markersize=5)\n",
    "        ax.invert_yaxis()\n",
    "        ax.set_title(\"Scatter plot\")\n",
    "    else:\n",
    "        img, extent = myplot(x, y, s)\n",
    "        ax.imshow(img, extent=extent, origin='lower', cmap=cm.jet)\n",
    "        ax.invert_yaxis()\n",
    "        ax.set_title(\"Smoothing with  $\\sigma$ = %d\" % s)\n",
    "\n",
    "plt.show()"
   ]
  },
  {
   "cell_type": "code",
   "execution_count": null,
   "metadata": {},
   "outputs": [],
   "source": []
  }
 ],
 "metadata": {
  "kernelspec": {
   "display_name": "Python 3",
   "language": "python",
   "name": "python3"
  },
  "language_info": {
   "codemirror_mode": {
    "name": "ipython",
    "version": 3
   },
   "file_extension": ".py",
   "mimetype": "text/x-python",
   "name": "python",
   "nbconvert_exporter": "python",
   "pygments_lexer": "ipython3",
   "version": "3.8.5"
  }
 },
 "nbformat": 4,
 "nbformat_minor": 2
}
