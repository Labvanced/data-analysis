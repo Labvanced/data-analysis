{
 "cells": [
  {
   "cell_type": "code",
   "execution_count": 5,
   "metadata": {},
   "outputs": [],
   "source": [
    "import numpy as np\n",
    "import pandas as pd\n",
    "import csv\n",
    "from matplotlib import pyplot as plt"
   ]
  },
  {
   "cell_type": "markdown",
   "metadata": {},
   "source": [
    "### Read trial data and timeseries into pandas:"
   ]
  },
  {
   "cell_type": "code",
   "execution_count": 2,
   "metadata": {},
   "outputs": [],
   "source": [
    "data=pd.read_csv('data.csv', sep=',')\n",
    "\n",
    "rows = []\n",
    "csv_header = [\"Block_Name\",\"Block_Nr\",\"exp_subject_id\",\"rec_session_id\",\"session_nr\",\"Task_Name\",\n",
    "                                                           \"Task_Nr\",\"times\",\"Trial_Id\",\"Trial_Nr\",\n",
    "                                                           \"variable_name\",\"values\"]\n",
    "with open('timeseries.csv', 'r') as f_input:\n",
    "    reader = csv.DictReader(f_input, delimiter=',', fieldnames=csv_header[:-1], restkey=csv_header[-1], skipinitialspace=True)\n",
    "    next(reader)\n",
    "    for row in reader:\n",
    "        row_part1 = [row[fname] for fname in csv_header[:-1]]\n",
    "        if len(row['values']) < 2:\n",
    "            row['values'].append('')\n",
    "        new_row = row_part1 + row['values']\n",
    "        rows.append(new_row)\n",
    "\n",
    "frame_header = csv_header[:-1] + [\"x\", \"y\"]\n",
    "timeseries = pd.DataFrame(rows, columns=frame_header)\n",
    "\n",
    "\n",
    "numeric_columns = [\"Block_Nr\",\"exp_subject_id\",\"rec_session_id\",\"session_nr\",\n",
    "                                                           \"Task_Nr\",\"times\",\"Trial_Id\",\"Trial_Nr\",\n",
    "                                                           \"x\", \"y\"]\n",
    "\n",
    "for col in numeric_columns:\n",
    "    timeseries[col] = pd.to_numeric(timeseries[col])\n",
    "    \n",
    "timeseries = timeseries[timeseries.variable_name.eq('XYGaze')]"
   ]
  },
  {
   "cell_type": "markdown",
   "metadata": {},
   "source": [
    "### Evaluate accuracy of every trial and every subject:"
   ]
  },
  {
   "cell_type": "code",
   "execution_count": 9,
   "metadata": {},
   "outputs": [],
   "source": [
    "results = []\n",
    "frame_width = 800\n",
    "frame_height = 450\n",
    "t_min = 1000\n",
    "t_max = 6000\n",
    "visual_degree_scaling = 25\n",
    "\n",
    "for rec_session_id in data.rec_session_id.unique():\n",
    "    subj_data = data[data.Task_Name.eq('testing') & data.rec_session_id.eq(rec_session_id)]\n",
    "    for fixation_idx, row in subj_data.iterrows():\n",
    "        time_pts = timeseries[timeseries.Task_Nr.eq(row.Task_Nr) & timeseries.rec_session_id.eq(rec_session_id) & timeseries.Trial_Id.eq(row.Trial_Id)]\n",
    "\n",
    "        # remove initial NaN values at start of trials:\n",
    "        time_pts = time_pts[time_pts['x'].notnull()]\n",
    "        time_pts = time_pts[time_pts['y'].notnull()]\n",
    "        \n",
    "        # change timestamps to start at 0 for each trial:\n",
    "        time_pts['times'] = time_pts['times'] - time_pts['times'].iloc[0]\n",
    "\n",
    "        # filter samples that are between t_min and t_max within the trial:\n",
    "        time_pts = time_pts[time_pts['times'] > t_min]\n",
    "        time_pts = time_pts[time_pts['times'] < t_max]\n",
    "\n",
    "        # remove samples where gaze prediction is outside screen:\n",
    "        time_pts = time_pts[time_pts['x'] > 0]\n",
    "        time_pts = time_pts[time_pts['y'] > 0]\n",
    "        time_pts = time_pts[time_pts['x'] < frame_width]\n",
    "        time_pts = time_pts[time_pts['y'] < frame_height]\n",
    "        \n",
    "        if time_pts.shape[0] < 5:\n",
    "            continue\n",
    "        \n",
    "        XCorr = row.XCorr\n",
    "        YCorr = row.YCorr\n",
    "        \n",
    "        xDiff = np.abs(time_pts.x - XCorr) / visual_degree_scaling\n",
    "        yDiff = np.abs(time_pts.y - YCorr) / visual_degree_scaling\n",
    "    \n",
    "        spatialPrecisionX = np.sqrt(np.mean(xDiff**2))\n",
    "        spatialPrecisionY = np.sqrt(np.mean(yDiff**2))\n",
    "        spatialAccuracyX = np.mean(xDiff)\n",
    "        spatialAccuracyY = np.mean(yDiff)\n",
    "        \n",
    "        results.append({\n",
    "            'rec_session_id': rec_session_id,  \n",
    "            'spatialAccuracyX': spatialAccuracyX,  \n",
    "            'spatialAccuracyY': spatialAccuracyY,\n",
    "            'spatialPrecisionX': spatialPrecisionX,  \n",
    "            'spatialPrecisionY': spatialPrecisionY\n",
    "        })\n",
    "\n",
    "results = pd.DataFrame(results)"
   ]
  },
  {
   "cell_type": "code",
   "execution_count": 5,
   "metadata": {},
   "outputs": [
    {
     "data": {
      "image/png": "[encoded data removed]",
      "text/plain": [
       "<Figure size 432x288 with 1 Axes>"
      ]
     },
     "metadata": {
      "needs_background": "light"
     },
     "output_type": "display_data"
    }
   ],
   "source": [
    "results_agg = results.groupby(\"rec_session_id\").agg([np.mean, np.std])\n",
    "results_agg['spatialAccuracyX'].plot(kind = \"barh\", y = \"mean\", legend = False, title = \"Horizontal Accuracy per subject\", xerr = \"std\")\n",
    "plt.xlabel('visual degrees (and standard deviation)')\n",
    "plt.show()"
   ]
  },
  {
   "cell_type": "code",
   "execution_count": 6,
   "metadata": {},
   "outputs": [
    {
     "data": {
      "image/png": "[encoded data removed]",
      "text/plain": [
       "<Figure size 432x288 with 1 Axes>"
      ]
     },
     "metadata": {
      "needs_background": "light"
     },
     "output_type": "display_data"
    }
   ],
   "source": [
    "results_agg = results.groupby(\"rec_session_id\").agg([np.mean, np.std])\n",
    "results_agg['spatialAccuracyY'].plot(kind = \"barh\", y = \"mean\", legend = False, title = \"Vertical Accuracy per subject\", xerr = \"std\")\n",
    "plt.xlabel('visual degrees (and standard deviation)')\n",
    "plt.show()"
   ]
  },
  {
   "cell_type": "code",
   "execution_count": 1,
   "metadata": {},
   "outputs": [
    {
     "output_type": "error",
     "ename": "NameError",
     "evalue": "name &#39;results_agg&#39; is not defined",
     "traceback": [
      "\u001b[0;31m---------------------------------------------------------------------------\u001b[0m",
      "\u001b[0;31mNameError\u001b[0m                                 Traceback (most recent call last)",
      "\u001b[0;32m&lt;ipython-input-1-b89ed812f2bb&gt;\u001b[0m in \u001b[0;36m&lt;module&gt;\u001b[0;34m\u001b[0m\n\u001b[0;32m----&gt; 1\u001b[0;31m \u001b[0;32mdel\u001b[0m \u001b[0mresults_agg\u001b[0m\u001b[0;34m[\u001b[0m\u001b[0;34m&#39;spatialAccuracyX&#39;\u001b[0m\u001b[0;34m]\u001b[0m\u001b[0;34m[\u001b[0m\u001b[0;34m&#39;std&#39;\u001b[0m\u001b[0;34m]\u001b[0m\u001b[0;34m\u001b[0m\u001b[0;34m\u001b[0m\u001b[0m\n\u001b[0m\u001b[1;32m      2\u001b[0m \u001b[0;32mdel\u001b[0m \u001b[0mresults_agg\u001b[0m\u001b[0;34m[\u001b[0m\u001b[0;34m&#39;spatialAccuracyX&#39;\u001b[0m\u001b[0;34m]\u001b[0m\u001b[0;34m[\u001b[0m\u001b[0;34m&#39;std&#39;\u001b[0m\u001b[0;34m]\u001b[0m\u001b[0;34m\u001b[0m\u001b[0;34m\u001b[0m\u001b[0m\n\u001b[1;32m      3\u001b[0m \u001b[0mmeans_only\u001b[0m \u001b[0;34m=\u001b[0m \u001b[0mpd\u001b[0m\u001b[0;34m.\u001b[0m\u001b[0mDataFrame\u001b[0m\u001b[0;34m(\u001b[0m\u001b[0;34m{\u001b[0m\u001b[0;34m&#39;X&#39;\u001b[0m\u001b[0;34m:\u001b[0m\u001b[0mresults_agg\u001b[0m\u001b[0;34m[\u001b[0m\u001b[0;34m&#39;spatialAccuracyX&#39;\u001b[0m\u001b[0;34m]\u001b[0m\u001b[0;34m[\u001b[0m\u001b[0;34m&#39;mean&#39;\u001b[0m\u001b[0;34m]\u001b[0m\u001b[0;34m,\u001b[0m\u001b[0;34m&#39;Y&#39;\u001b[0m\u001b[0;34m:\u001b[0m\u001b[0mresults_agg\u001b[0m\u001b[0;34m[\u001b[0m\u001b[0;34m&#39;spatialAccuracyY&#39;\u001b[0m\u001b[0;34m]\u001b[0m\u001b[0;34m[\u001b[0m\u001b[0;34m&#39;mean&#39;\u001b[0m\u001b[0;34m]\u001b[0m\u001b[0;34m}\u001b[0m\u001b[0;34m)\u001b[0m\u001b[0;34m\u001b[0m\u001b[0;34m\u001b[0m\u001b[0m\n\u001b[1;32m      4\u001b[0m \u001b[0mresults_grand_mean\u001b[0m \u001b[0;34m=\u001b[0m \u001b[0mmeans_only\u001b[0m\u001b[0;34m.\u001b[0m\u001b[0magg\u001b[0m\u001b[0;34m(\u001b[0m\u001b[0;34m[\u001b[0m\u001b[0mnp\u001b[0m\u001b[0;34m.\u001b[0m\u001b[0mmean\u001b[0m\u001b[0;34m,\u001b[0m\u001b[0mnp\u001b[0m\u001b[0;34m.\u001b[0m\u001b[0mstd\u001b[0m\u001b[0;34m]\u001b[0m\u001b[0;34m)\u001b[0m\u001b[0;34m\u001b[0m\u001b[0;34m\u001b[0m\u001b[0m\n\u001b[1;32m      5\u001b[0m \u001b[0mvalues\u001b[0m \u001b[0;34m=\u001b[0m \u001b[0;34m[\u001b[0m\u001b[0;34m[\u001b[0m\u001b[0mresults_grand_mean\u001b[0m\u001b[0;34m[\u001b[0m\u001b[0;34m&quot;X&quot;\u001b[0m\u001b[0;34m]\u001b[0m\u001b[0;34m[\u001b[0m\u001b[0;34m&quot;mean&quot;\u001b[0m\u001b[0;34m]\u001b[0m\u001b[0;34m,\u001b[0m\u001b[0mresults_grand_mean\u001b[0m\u001b[0;34m[\u001b[0m\u001b[0;34m&quot;X&quot;\u001b[0m\u001b[0;34m]\u001b[0m\u001b[0;34m[\u001b[0m\u001b[0;34m&quot;std&quot;\u001b[0m\u001b[0;34m]\u001b[0m\u001b[0;34m]\u001b[0m\u001b[0;34m,\u001b[0m \u001b[0;34m[\u001b[0m\u001b[0mresults_grand_mean\u001b[0m\u001b[0;34m[\u001b[0m\u001b[0;34m&quot;Y&quot;\u001b[0m\u001b[0;34m]\u001b[0m\u001b[0;34m[\u001b[0m\u001b[0;34m&quot;mean&quot;\u001b[0m\u001b[0;34m]\u001b[0m\u001b[0;34m,\u001b[0m\u001b[0mresults_grand_mean\u001b[0m\u001b[0;34m[\u001b[0m\u001b[0;34m&quot;Y&quot;\u001b[0m\u001b[0;34m]\u001b[0m\u001b[0;34m[\u001b[0m\u001b[0;34m&quot;std&quot;\u001b[0m\u001b[0;34m]\u001b[0m\u001b[0;34m]\u001b[0m\u001b[0;34m]\u001b[0m\u001b[0;34m\u001b[0m\u001b[0;34m\u001b[0m\u001b[0m\n",
      "\u001b[0;31mNameError\u001b[0m: name &#39;results_agg&#39; is not defined"
     ]
    }
   ],
   "source": [
    "results_agg = results.groupby(\"rec_session_id\").agg(np.mean)\n",
    "results_grand_mean = results_agg.agg([np.mean,np.std])\n",
    "values = [[results_grand_mean[\"spatialAccuracyX\"][\"mean\"],results_grand_mean[\"spatialAccuracyX\"][\"std\"]], [results_grand_mean[\"spatialAccuracyY\"][\"mean\"],results_grand_mean[\"spatialAccuracyY\"][\"std\"]]]\n",
    "toplot = pd.DataFrame(values,columns=['mean','std'], index=['HORIZONTAL','VERTICAL'])\n",
    "toplot.plot(kind = \"bar\", y = \"mean\", legend = False, title = \"Average accuracy (in visual degrees)\", yerr = \"std\")\n",
    "plt.show()\n",
    "print(\"Average horizontal accuracy:\" + str(results_grand_mean[\"spatialAccuracyX\"][\"mean\"])+\"°\")\n",
    "print(\"Average vertical accuracy:\" + str(results_grand_mean[\"spatialAccuracyY\"][\"mean\"])+\"°\")"
   ]
  },
  {
   "cell_type": "code",
   "execution_count": null,
   "metadata": {},
   "outputs": [],
   "source": []
  }
 ],
 "metadata": {
  "kernelspec": {
   "name": "Python 3.6.9 64-bit",
   "display_name": "Python 3.6.9 64-bit",
   "metadata": {
    "interpreter": {
     "hash": "767d51c1340bd893661ea55ea3124f6de3c7a262a8b4abca0554b478b1e2ff90"
    }
   }
  },
  "language_info": {
   "codemirror_mode": {
    "name": "ipython",
    "version": 3
   },
   "file_extension": ".py",
   "mimetype": "text/x-python",
   "name": "python",
   "nbconvert_exporter": "python",
   "pygments_lexer": "ipython3",
   "version": "3.6.9-final"
  }
 },
 "nbformat": 4,
 "nbformat_minor": 4
}